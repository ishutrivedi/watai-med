{
 "cells": [
  {
   "cell_type": "code",
   "execution_count": 1,
   "metadata": {},
   "outputs": [],
   "source": [
    "import chromadb\n",
    "from langchain_community.document_loaders import UnstructuredFileLoader, DirectoryLoader\n",
    "from langchain_community.embeddings import SentenceTransformerEmbeddings\n",
    "from langchain.text_splitter import RecursiveCharacterTextSplitter\n",
    "from langchain.vectorstores import Chroma\n",
    "from langchain import PromptTemplate\n",
    "from langchain.chains import RetrievalQA\n",
    "from langchain_community.llms import LlamaCpp\n",
    "chroma_client = chromadb.Client()"
   ]
  },
  {
   "cell_type": "code",
   "execution_count": 2,
   "metadata": {},
   "outputs": [],
   "source": [
    "collection = chroma_client.create_collection(name=\"my_collection\")"
   ]
  },
  {
   "cell_type": "code",
   "execution_count": 3,
   "metadata": {},
   "outputs": [],
   "source": [
    "collection.add(\n",
    "    documents=[\n",
    "        \"This is a document about pineapple\",\n",
    "        \"This is a document about oranges\"\n",
    "    ],\n",
    "    ids=[\"id1\", \"id2\"]\n",
    ")\n"
   ]
  },
  {
   "cell_type": "code",
   "execution_count": 4,
   "metadata": {},
   "outputs": [
    {
     "name": "stdout",
     "output_type": "stream",
     "text": [
      "{'ids': [['id1', 'id2']], 'distances': [[1.0404009819030762, 1.2430799007415771]], 'metadatas': [[None, None]], 'embeddings': None, 'documents': [['This is a document about pineapple', 'This is a document about oranges']], 'uris': None, 'data': None, 'included': ['metadatas', 'documents', 'distances']}\n"
     ]
    }
   ],
   "source": [
    "results = collection.query(\n",
    "    query_texts=[\"This is a query document about hawaii\"], \n",
    "    n_results=2 \n",
    ")\n",
    "print(results)\n"
   ]
  },
  {
   "cell_type": "code",
   "execution_count": 5,
   "metadata": {},
   "outputs": [
    {
     "name": "stderr",
     "output_type": "stream",
     "text": [
      "e:\\medchat\\Medical-RAG-using-Bio-Mistral-7B-main\\Medical-RAG-using-Bio-Mistral-7B-main\\myvenv\\Lib\\site-packages\\tqdm\\auto.py:21: TqdmWarning: IProgress not found. Please update jupyter and ipywidgets. See https://ipywidgets.readthedocs.io/en/stable/user_install.html\n",
      "  from .autonotebook import tqdm as notebook_tqdm\n"
     ]
    },
    {
     "name": "stdout",
     "output_type": "stream",
     "text": [
      "1\n"
     ]
    }
   ],
   "source": [
    "def load_docs(directory):\n",
    "    loader = DirectoryLoader(directory)\n",
    "    documents = loader.load()\n",
    "    \n",
    "    return documents\n",
    "\n",
    "med_documents = load_docs(\"data\")  # call the load_docs function\n",
    "print(len(med_documents))  # check the number of files in the documents folder"
   ]
  },
  {
   "cell_type": "code",
   "execution_count": 6,
   "metadata": {},
   "outputs": [
    {
     "name": "stderr",
     "output_type": "stream",
     "text": [
      "e:\\medchat\\Medical-RAG-using-Bio-Mistral-7B-main\\Medical-RAG-using-Bio-Mistral-7B-main\\myvenv\\Lib\\site-packages\\langchain_core\\_api\\deprecation.py:139: LangChainDeprecationWarning: The class `HuggingFaceEmbeddings` was deprecated in LangChain 0.2.2 and will be removed in 0.3.0. An updated version of the class exists in the langchain-huggingface package and should be used instead. To use it run `pip install -U langchain-huggingface` and import as `from langchain_huggingface import HuggingFaceEmbeddings`.\n",
      "  warn_deprecated(\n"
     ]
    },
    {
     "name": "stdout",
     "output_type": "stream",
     "text": [
      "client=SentenceTransformer(\n",
      "  (0): Transformer({'max_seq_length': 512, 'do_lower_case': False}) with Transformer model: BertModel \n",
      "  (1): Pooling({'word_embedding_dimension': 768, 'pooling_mode_cls_token': False, 'pooling_mode_mean_tokens': True, 'pooling_mode_max_tokens': False, 'pooling_mode_mean_sqrt_len_tokens': False, 'pooling_mode_weightedmean_tokens': False, 'pooling_mode_lasttoken': False})\n",
      ") model_name='NeuML/pubmedbert-base-embeddings' cache_folder=None model_kwargs={} encode_kwargs={} multi_process=False show_progress=False\n",
      "[Document(page_content='By the end of 1998, the number of people living with HIV is estimated to have grown to 33.4 million, according to estimates from UNAIDS and WHO. Most of these people do not know that they are infected. The epidemic has not been overcome anywhere. Virtually every country in the world saw new infections in 1998 and the epidemic is frankly out of control in many places. More than 95 percent of all HIV-infected people now live in the developing world, which has experienced 95 percent of all deaths to date from AIDS. These deaths are largely among young adults who would normally be in their peak productive and reproductive years. The multiple repercussions of these deaths are reaching crisis', metadata={'source': 'data\\\\chroma_db_test.pdf'}), Document(page_content='years. The multiple repercussions of these deaths are reaching crisis level in some parts of the world. Whether measured against the yardstick of deteriorating child survival, crumbling life expectancy, overburdened health care systems, increasing orphanhood, or bottom-line losses to business, AIDS has never posed a bigger threat to development. According to UNAIDS/WHO estimates, 11 men, women and children around the world were infected per minute during 1998—close to 6 million people in all. One-tenth of newly-infected people were under age 15, which brings the number of children now alive with HIV to 1.2 million. Most of them are thought to have acquired their infection from their mother', metadata={'source': 'data\\\\chroma_db_test.pdf'}), Document(page_content='them are thought to have acquired their infection from their mother before or at birth, or through breastfeeding.', metadata={'source': 'data\\\\chroma_db_test.pdf'})]\n"
     ]
    },
    {
     "name": "stderr",
     "output_type": "stream",
     "text": [
      "Number of requested results 2 is greater than number of elements in index 1, updating n_results = 1\n"
     ]
    },
    {
     "name": "stdout",
     "output_type": "stream",
     "text": [
      "{'ids': [['id1']], 'distances': [[0.9814468026161194]], 'metadatas': [[None]], 'embeddings': None, 'documents': [['years. The multiple repercussions of these deaths are reaching crisis level in some parts of the world. Whether measured against the yardstick of deteriorating child survival, crumbling life expectancy, overburdened health care systems, increasing orphanhood, or bottom-line losses to business, AIDS has never posed a bigger threat to development. According to UNAIDS/WHO estimates, 11 men, women and children around the world were infected per minute during 1998—close to 6 million people in all. One-tenth of newly-infected people were under age 15, which brings the number of children now alive with HIV to 1.2 million. Most of them are thought to have acquired their infection from their mother']], 'uris': None, 'data': None, 'included': ['metadatas', 'documents', 'distances']}\n"
     ]
    }
   ],
   "source": [
    "embeddings = SentenceTransformerEmbeddings(model_name=\"NeuML/pubmedbert-base-embeddings\")\n",
    "\n",
    "print(embeddings)\n",
    "\n",
    "text_splitter = RecursiveCharacterTextSplitter(chunk_size=700, chunk_overlap=70)\n",
    "\n",
    "texts = text_splitter.split_documents(med_documents)\n",
    "\n",
    "print(texts)\n",
    "\n",
    "collection = chroma_client.get_or_create_collection(name=\"med_collection\")\n",
    "\n",
    "collection.upsert(\n",
    "    documents=texts[1].page_content,\n",
    "    ids=[\"id1\"]\n",
    ")\n",
    "results = collection.query(\n",
    "    query_texts=[\"HIV\"], \n",
    "    n_results=2 \n",
    ")\n",
    "print(results)"
   ]
  },
  {
   "cell_type": "code",
   "execution_count": 7,
   "metadata": {},
   "outputs": [
    {
     "name": "stderr",
     "output_type": "stream",
     "text": [
      "Number of requested results 2 is greater than number of elements in index 1, updating n_results = 1\n"
     ]
    },
    {
     "name": "stdout",
     "output_type": "stream",
     "text": [
      "{'ids': [['id1']], 'distances': [[0.987060546875]], 'metadatas': [[None]], 'embeddings': None, 'documents': [['years. The multiple repercussions of these deaths are reaching crisis level in some parts of the world. Whether measured against the yardstick of deteriorating child survival, crumbling life expectancy, overburdened health care systems, increasing orphanhood, or bottom-line losses to business, AIDS has never posed a bigger threat to development. According to UNAIDS/WHO estimates, 11 men, women and children around the world were infected per minute during 1998—close to 6 million people in all. One-tenth of newly-infected people were under age 15, which brings the number of children now alive with HIV to 1.2 million. Most of them are thought to have acquired their infection from their mother']], 'uris': None, 'data': None, 'included': ['metadatas', 'documents', 'distances']}\n"
     ]
    }
   ],
   "source": [
    "results = collection.query(\n",
    "    query_texts=[\"AIDS\"], \n",
    "    n_results=2 \n",
    ")\n",
    "print(results)"
   ]
  },
  {
   "cell_type": "code",
   "execution_count": 8,
   "metadata": {},
   "outputs": [
    {
     "name": "stderr",
     "output_type": "stream",
     "text": [
      "llama_model_loader: loaded meta data with 23 key-value pairs and 291 tensors from biomistral-7b-q4_k_m.gguf (version GGUF V3 (latest))\n",
      "llama_model_loader: Dumping metadata keys/values. Note: KV overrides do not apply in this output.\n",
      "llama_model_loader: - kv   0:                       general.architecture str              = llama\n",
      "llama_model_loader: - kv   1:                               general.name str              = BioMistral-7B\n",
      "llama_model_loader: - kv   2:                          llama.block_count u32              = 32\n",
      "llama_model_loader: - kv   3:                       llama.context_length u32              = 32768\n",
      "llama_model_loader: - kv   4:                     llama.embedding_length u32              = 4096\n",
      "llama_model_loader: - kv   5:                  llama.feed_forward_length u32              = 14336\n",
      "llama_model_loader: - kv   6:                 llama.attention.head_count u32              = 32\n",
      "llama_model_loader: - kv   7:              llama.attention.head_count_kv u32              = 8\n",
      "llama_model_loader: - kv   8:                       llama.rope.freq_base f32              = 10000.000000\n",
      "llama_model_loader: - kv   9:     llama.attention.layer_norm_rms_epsilon f32              = 0.000010\n",
      "llama_model_loader: - kv  10:                          general.file_type u32              = 15\n",
      "llama_model_loader: - kv  11:                           llama.vocab_size u32              = 32000\n",
      "llama_model_loader: - kv  12:                 llama.rope.dimension_count u32              = 128\n",
      "llama_model_loader: - kv  13:                       tokenizer.ggml.model str              = llama\n",
      "llama_model_loader: - kv  14:                         tokenizer.ggml.pre str              = default\n",
      "llama_model_loader: - kv  15:                      tokenizer.ggml.tokens arr[str,32000]   = [\"<unk>\", \"<s>\", \"</s>\", \"<0x00>\", \"<...\n",
      "llama_model_loader: - kv  16:                      tokenizer.ggml.scores arr[f32,32000]   = [0.000000, 0.000000, 0.000000, 0.0000...\n",
      "llama_model_loader: - kv  17:                  tokenizer.ggml.token_type arr[i32,32000]   = [2, 3, 3, 6, 6, 6, 6, 6, 6, 6, 6, 6, ...\n",
      "llama_model_loader: - kv  18:                tokenizer.ggml.bos_token_id u32              = 1\n",
      "llama_model_loader: - kv  19:                tokenizer.ggml.eos_token_id u32              = 2\n",
      "llama_model_loader: - kv  20:            tokenizer.ggml.unknown_token_id u32              = 0\n",
      "llama_model_loader: - kv  21:                    tokenizer.chat_template str              = {{ bos_token }}{% for message in mess...\n",
      "llama_model_loader: - kv  22:               general.quantization_version u32              = 2\n",
      "llama_model_loader: - type  f32:   65 tensors\n",
      "llama_model_loader: - type q4_K:  193 tensors\n",
      "llama_model_loader: - type q6_K:   33 tensors\n",
      "llm_load_vocab: special tokens definition check successful ( 259/32000 ).\n",
      "llm_load_print_meta: format           = GGUF V3 (latest)\n",
      "llm_load_print_meta: arch             = llama\n",
      "llm_load_print_meta: vocab type       = SPM\n",
      "llm_load_print_meta: n_vocab          = 32000\n",
      "llm_load_print_meta: n_merges         = 0\n",
      "llm_load_print_meta: n_ctx_train      = 32768\n",
      "llm_load_print_meta: n_embd           = 4096\n",
      "llm_load_print_meta: n_head           = 32\n",
      "llm_load_print_meta: n_head_kv        = 8\n",
      "llm_load_print_meta: n_layer          = 32\n",
      "llm_load_print_meta: n_rot            = 128\n",
      "llm_load_print_meta: n_embd_head_k    = 128\n",
      "llm_load_print_meta: n_embd_head_v    = 128\n",
      "llm_load_print_meta: n_gqa            = 4\n",
      "llm_load_print_meta: n_embd_k_gqa     = 1024\n",
      "llm_load_print_meta: n_embd_v_gqa     = 1024\n",
      "llm_load_print_meta: f_norm_eps       = 0.0e+00\n",
      "llm_load_print_meta: f_norm_rms_eps   = 1.0e-05\n",
      "llm_load_print_meta: f_clamp_kqv      = 0.0e+00\n",
      "llm_load_print_meta: f_max_alibi_bias = 0.0e+00\n",
      "llm_load_print_meta: n_ff             = 14336\n",
      "llm_load_print_meta: n_expert         = 0\n",
      "llm_load_print_meta: n_expert_used    = 0\n",
      "llm_load_print_meta: rope scaling     = linear\n",
      "llm_load_print_meta: freq_base_train  = 10000.0\n",
      "llm_load_print_meta: freq_scale_train = 1\n",
      "llm_load_print_meta: n_yarn_orig_ctx  = 32768\n",
      "llm_load_print_meta: rope_finetuned   = unknown\n",
      "llm_load_print_meta: model type       = 7B\n",
      "llm_load_print_meta: model ftype      = Q4_K - Medium\n",
      "llm_load_print_meta: model params     = 7.24 B\n",
      "llm_load_print_meta: model size       = 4.07 GiB (4.83 BPW) \n",
      "llm_load_print_meta: general.name     = BioMistral-7B\n",
      "llm_load_print_meta: BOS token        = 1 '<s>'\n",
      "llm_load_print_meta: EOS token        = 2 '</s>'\n",
      "llm_load_print_meta: UNK token        = 0 '<unk>'\n",
      "llm_load_print_meta: LF token         = 13 '<0x0A>'\n",
      "llm_load_tensors: ggml ctx size =    0.11 MiB\n",
      "llm_load_tensors:        CPU buffer size =  4165.37 MiB\n",
      "...............................................................................................\n",
      "llama_new_context_with_model: n_ctx      = 512\n",
      "llama_new_context_with_model: freq_base  = 10000.0\n",
      "llama_new_context_with_model: freq_scale = 1\n",
      "llama_kv_cache_init:        CPU KV buffer size =    64.00 MiB\n",
      "llama_new_context_with_model: KV self size  =   64.00 MiB, K (f16):   32.00 MiB, V (f16):   32.00 MiB\n",
      "llama_new_context_with_model:        CPU input buffer size   =     0.14 MiB\n",
      "llama_new_context_with_model:        CPU compute buffer size =     1.13 MiB\n",
      "llama_new_context_with_model: graph splits (measure): 1\n",
      "AVX = 1 | AVX_VNNI = 0 | AVX2 = 1 | AVX512 = 0 | AVX512_VBMI = 0 | AVX512_VNNI = 0 | FMA = 1 | NEON = 0 | ARM_FMA = 0 | F16C = 1 | FP16_VA = 0 | WASM_SIMD = 0 | BLAS = 0 | SSE3 = 1 | SSSE3 = 0 | VSX = 0 | MATMUL_INT8 = 0 | \n",
      "Model metadata: {'general.name': 'BioMistral-7B', 'general.architecture': 'llama', 'llama.block_count': '32', 'llama.context_length': '32768', 'tokenizer.ggml.eos_token_id': '2', 'general.file_type': '15', 'llama.attention.head_count_kv': '8', 'llama.embedding_length': '4096', 'llama.feed_forward_length': '14336', 'llama.attention.head_count': '32', 'llama.rope.freq_base': '10000.000000', 'llama.attention.layer_norm_rms_epsilon': '0.000010', 'llama.vocab_size': '32000', 'llama.rope.dimension_count': '128', 'tokenizer.ggml.model': 'llama', 'tokenizer.ggml.pre': 'default', 'general.quantization_version': '2', 'tokenizer.ggml.bos_token_id': '1', 'tokenizer.ggml.unknown_token_id': '0', 'tokenizer.chat_template': \"{{ bos_token }}{% for message in messages %}{% if (message['role'] == 'user') != (loop.index0 % 2 == 0) %}{{ raise_exception('Conversation roles must alternate user/assistant/user/assistant/...') }}{% endif %}{% if message['role'] == 'user' %}{{ '[INST] ' + message['content'] + ' [/INST]' }}{% elif message['role'] == 'assistant' %}{{ message['content'] + eos_token + ' ' }}{% else %}{{ raise_exception('Only user and assistant roles are supported!') }}{% endif %}{% endfor %}\"}\n",
      "Guessed chat format: mistral-instruct\n",
      "e:\\medchat\\Medical-RAG-using-Bio-Mistral-7B-main\\Medical-RAG-using-Bio-Mistral-7B-main\\myvenv\\Lib\\site-packages\\langchain_core\\_api\\deprecation.py:139: LangChainDeprecationWarning: The method `Chain.__call__` was deprecated in langchain 0.1.0 and will be removed in 0.3.0. Use invoke instead.\n",
      "  warn_deprecated(\n"
     ]
    },
    {
     "name": "stdout",
     "output_type": "stream",
     "text": [
      "\n",
      "\n",
      "\u001b[1m> Entering new RetrievalQA chain...\u001b[0m\n"
     ]
    },
    {
     "name": "stderr",
     "output_type": "stream",
     "text": [
      "\n",
      "llama_print_timings:        load time =    9887.32 ms\n",
      "llama_print_timings:      sample time =     130.93 ms /    80 runs   (    1.64 ms per token,   611.03 tokens per second)\n",
      "llama_print_timings: prompt eval time =  337271.26 ms /   400 tokens (  843.18 ms per token,     1.19 tokens per second)\n",
      "llama_print_timings:        eval time =  521576.04 ms /    80 runs   ( 6519.70 ms per token,     0.15 tokens per second)\n",
      "llama_print_timings:       total time =  864090.11 ms /   480 tokens\n"
     ]
    },
    {
     "name": "stdout",
     "output_type": "stream",
     "text": [
      "\n",
      "\u001b[1m> Finished chain.\u001b[0m\n"
     ]
    }
   ],
   "source": [
    "local_llm = \"biomistral-7b-q4_k_m.gguf\"\n",
    "db = Chroma(persist_directory=\"./chromadb\", embedding_function=embeddings, collection_name=\"med_collection\")\n",
    "\n",
    "llm = LlamaCpp(\n",
    "    model_path= local_llm,\n",
    "    temperature=0.3,\n",
    "    max_tokens=1024,\n",
    "    top_p=1,\n",
    "    \n",
    ")\n",
    "prompt_template = \"\"\"Use the following pieces of information to answer the user's question.\n",
    "If you don't know the answer, just say that you don't know, don't try to make up an answer.\n",
    "\n",
    "Context: {context}\n",
    "Question: {question}\n",
    "\n",
    "Only return the helpful answer. Answer must be detailed and well explained.\n",
    "Helpful answer:\n",
    "\"\"\"\n",
    "prompt = PromptTemplate(template=prompt_template, input_variables=['context', 'question'])\n",
    "chain_type_kwargs = {\"prompt\": prompt}\n",
    "retriever = db.as_retriever(search_kwargs={\"k\":1})\n",
    "qa = RetrievalQA.from_chain_type(llm=llm, chain_type=\"stuff\", retriever=retriever, return_source_documents=True, chain_type_kwargs=chain_type_kwargs, verbose=True)\n",
    "response = qa(\"What is AIDS\")"
   ]
  },
  {
   "cell_type": "code",
   "execution_count": 9,
   "metadata": {},
   "outputs": [
    {
     "name": "stdout",
     "output_type": "stream",
     "text": [
      "{'query': 'What is AIDS', 'result': 'AIDS is a disease caused by a virus called HIV (human immunodeficiency virus). HIV attacks a person’s immune system and slowly destroys their ability to fight infections. A person infected with HIV may look and feel healthy for several years before developing AIDS. AIDS is not curable and can be fatal within a few months or a few years after symptoms appear.', 'source_documents': [Document(page_content='By the end of 1998, the number of people living with HIV is estimated to have grown to 33.4 million, according to estimates from UNAIDS and WHO. Most of these people do not know that they are infected. The epidemic has not been overcome anywhere. Virtually every country in the world saw new infections in 1998 and the epidemic is frankly out of control in many places. More than 95 percent of all HIV-infected people now live in the developing world, which has experienced 95 percent of all deaths to date from AIDS. These deaths are largely among young adults who would normally be in their peak productive and reproductive years. The multiple repercussions of these deaths are reaching crisis level in some parts of the world. Whether measured against the yardstick of deteriorating child survival, crumbling life expectancy, overburdened health care systems, increasing orphanhood, or bottom-line losses to business, AIDS has never posed a bigger threat to development. According to UNAIDS/WHO estimates, 11 men, women and children around the world were infected per minute during 1998—close to 6 million people in all. One-tenth of newly-infected people were under age 15, which brings the number of children now alive with HIV to 1.2 million. Most of them are thought to have acquired their infection from their mother before or at birth, or through breastfeeding.', metadata={'source': 'data\\\\chroma_db_test.pdf'})]}\n"
     ]
    }
   ],
   "source": [
    "print(response)"
   ]
  },
  {
   "cell_type": "code",
   "execution_count": 10,
   "metadata": {},
   "outputs": [
    {
     "name": "stdout",
     "output_type": "stream",
     "text": [
      "\n",
      "\n",
      "\u001b[1m> Entering new RetrievalQA chain...\u001b[0m\n"
     ]
    },
    {
     "name": "stderr",
     "output_type": "stream",
     "text": [
      "Llama.generate: prefix-match hit\n",
      "\n",
      "llama_print_timings:        load time =    9887.32 ms\n",
      "llama_print_timings:      sample time =     194.97 ms /   106 runs   (    1.84 ms per token,   543.67 tokens per second)\n",
      "llama_print_timings: prompt eval time =   32120.12 ms /    29 tokens ( 1107.59 ms per token,     0.90 tokens per second)\n",
      "llama_print_timings:        eval time =  704357.09 ms /   105 runs   ( 6708.16 ms per token,     0.15 tokens per second)\n",
      "llama_print_timings:       total time =  743708.02 ms /   134 tokens\n"
     ]
    },
    {
     "name": "stdout",
     "output_type": "stream",
     "text": [
      "\n",
      "\u001b[1m> Finished chain.\u001b[0m\n",
      "{'query': 'What is the death rate due to AIDS', 'result': 'The death rate due to AIDS is difficult to estimate as it depends on many factors such as access to health care services, access to antiretroviral treatment and other medical interventions, and the stage of the epidemic in a particular region. However, according to UNAIDS estimates, approximately 20 million people have died from AIDS since the beginning of the epidemic. In 2017 alone, it is estimated that approximately 770,000 people died from AIDS-', 'source_documents': [Document(page_content='By the end of 1998, the number of people living with HIV is estimated to have grown to 33.4 million, according to estimates from UNAIDS and WHO. Most of these people do not know that they are infected. The epidemic has not been overcome anywhere. Virtually every country in the world saw new infections in 1998 and the epidemic is frankly out of control in many places. More than 95 percent of all HIV-infected people now live in the developing world, which has experienced 95 percent of all deaths to date from AIDS. These deaths are largely among young adults who would normally be in their peak productive and reproductive years. The multiple repercussions of these deaths are reaching crisis level in some parts of the world. Whether measured against the yardstick of deteriorating child survival, crumbling life expectancy, overburdened health care systems, increasing orphanhood, or bottom-line losses to business, AIDS has never posed a bigger threat to development. According to UNAIDS/WHO estimates, 11 men, women and children around the world were infected per minute during 1998—close to 6 million people in all. One-tenth of newly-infected people were under age 15, which brings the number of children now alive with HIV to 1.2 million. Most of them are thought to have acquired their infection from their mother before or at birth, or through breastfeeding.', metadata={'source': 'data\\\\chroma_db_test.pdf'})]}\n"
     ]
    }
   ],
   "source": [
    "response = qa(\"What is the death rate due to AIDS\")\n",
    "print(response)"
   ]
  },
  {
   "cell_type": "code",
   "execution_count": 11,
   "metadata": {},
   "outputs": [
    {
     "name": "stdout",
     "output_type": "stream",
     "text": [
      "\n",
      "\n",
      "\u001b[1m> Entering new RetrievalQA chain...\u001b[0m\n"
     ]
    },
    {
     "name": "stderr",
     "output_type": "stream",
     "text": [
      "Llama.generate: prefix-match hit\n",
      "\n",
      "llama_print_timings:        load time =    9887.32 ms\n",
      "llama_print_timings:      sample time =      64.91 ms /   109 runs   (    0.60 ms per token,  1679.14 tokens per second)\n",
      "llama_print_timings: prompt eval time =   30575.08 ms /    28 tokens ( 1091.97 ms per token,     0.92 tokens per second)\n",
      "llama_print_timings:        eval time =  135377.33 ms /   108 runs   ( 1253.49 ms per token,     0.80 tokens per second)\n",
      "llama_print_timings:       total time =  170505.73 ms /   136 tokens\n"
     ]
    },
    {
     "name": "stdout",
     "output_type": "stream",
     "text": [
      "\n",
      "\u001b[1m> Finished chain.\u001b[0m\n",
      "{'query': 'Number of people having AIDS', 'result': 'The estimated number of people living with AIDS by the end of 1998 was 33.4 million, according to estimates from UNAIDS and WHO. Most of these people do not know that they are infected. The epidemic has not been overcome anywhere. Virtually every country in the world saw new infections in 1998 and the epidemic is frankly out of control in many places. More than 95 percent of all HIV-infected people now live in the developing', 'source_documents': [Document(page_content='By the end of 1998, the number of people living with HIV is estimated to have grown to 33.4 million, according to estimates from UNAIDS and WHO. Most of these people do not know that they are infected. The epidemic has not been overcome anywhere. Virtually every country in the world saw new infections in 1998 and the epidemic is frankly out of control in many places. More than 95 percent of all HIV-infected people now live in the developing world, which has experienced 95 percent of all deaths to date from AIDS. These deaths are largely among young adults who would normally be in their peak productive and reproductive years. The multiple repercussions of these deaths are reaching crisis level in some parts of the world. Whether measured against the yardstick of deteriorating child survival, crumbling life expectancy, overburdened health care systems, increasing orphanhood, or bottom-line losses to business, AIDS has never posed a bigger threat to development. According to UNAIDS/WHO estimates, 11 men, women and children around the world were infected per minute during 1998—close to 6 million people in all. One-tenth of newly-infected people were under age 15, which brings the number of children now alive with HIV to 1.2 million. Most of them are thought to have acquired their infection from their mother before or at birth, or through breastfeeding.', metadata={'source': 'data\\\\chroma_db_test.pdf'})]}\n"
     ]
    }
   ],
   "source": [
    "response = qa(\"Number of people having AIDS\")\n",
    "print(response)"
   ]
  },
  {
   "cell_type": "code",
   "execution_count": 12,
   "metadata": {},
   "outputs": [],
   "source": [
    "#chroma_client.delete_collection(\"med_collection\")"
   ]
  },
  {
   "cell_type": "code",
   "execution_count": 13,
   "metadata": {},
   "outputs": [
    {
     "name": "stdout",
     "output_type": "stream",
     "text": [
      "2\n"
     ]
    }
   ],
   "source": [
    "print(chroma_client.count_collections())"
   ]
  },
  {
   "cell_type": "code",
   "execution_count": null,
   "metadata": {},
   "outputs": [],
   "source": []
  }
 ],
 "metadata": {
  "kernelspec": {
   "display_name": "myvenv",
   "language": "python",
   "name": "python3"
  },
  "language_info": {
   "codemirror_mode": {
    "name": "ipython",
    "version": 3
   },
   "file_extension": ".py",
   "mimetype": "text/x-python",
   "name": "python",
   "nbconvert_exporter": "python",
   "pygments_lexer": "ipython3",
   "version": "3.11.1"
  }
 },
 "nbformat": 4,
 "nbformat_minor": 2
}
